{
  "nbformat": 4,
  "nbformat_minor": 0,
  "metadata": {
    "kernelspec": {
      "name": "python3",
      "display_name": "Python 3"
    },
    "language_info": {
      "codemirror_mode": {
        "name": "ipython",
        "version": 3
      },
      "file_extension": ".py",
      "mimetype": "text/x-python",
      "name": "python",
      "nbconvert_exporter": "python",
      "pygments_lexer": "ipython3",
      "version": "3.7.3"
    },
    "colab": {
      "name": "EMG_LSTM.ipynb",
      "provenance": [],
      "collapsed_sections": [],
      "toc_visible": true
    },
    "accelerator": "TPU"
  },
  "cells": [
    {
      "cell_type": "code",
      "metadata": {
        "id": "6mzAgNivdaAw",
        "colab_type": "code",
        "outputId": "295b7cde-b4ef-4816-9b63-8cb949fe564e",
        "colab": {
          "base_uri": "https://localhost:8080/",
          "height": 34
        }
      },
      "source": [
        "import keras\n",
        "keras.__version__"
      ],
      "execution_count": 0,
      "outputs": [
        {
          "output_type": "execute_result",
          "data": {
            "text/plain": [
              "'2.2.5'"
            ]
          },
          "metadata": {
            "tags": []
          },
          "execution_count": 59
        }
      ]
    },
    {
      "cell_type": "markdown",
      "metadata": {
        "id": "lhnnGGq8kyWI",
        "colab_type": "text"
      },
      "source": [
        "###数据导入和处理\n"
      ]
    },
    {
      "cell_type": "code",
      "metadata": {
        "id": "LOnuqxz-daA1",
        "colab_type": "code",
        "colab": {}
      },
      "source": [
        "from numpy import genfromtxt\n",
        "import numpy as np\n",
        "my_data1 = genfromtxt('EMG_1ac10sec_MAT1-12.csv', delimiter=',')\n",
        "my_data2 = genfromtxt('EMG_1ac10sec_MAT3-12.csv', delimiter=',')\n",
        "my_data3 = genfromtxt('EMG_1ac10sec_MAT4-12.csv', delimiter=',')\n",
        "my_data4 = genfromtxt('EMG_1ac10sec_MAO4-12.csv', delimiter=',')\n",
        "my_data5 = genfromtxt('EMG_1ac10sec_MAO5-12.csv', delimiter=',')\n",
        "my_data = np.concatenate((my_data1,my_data2,my_data3,my_data4,my_data5),axis=1)\n",
        "# my_data=my_data1\n"
      ],
      "execution_count": 0,
      "outputs": []
    },
    {
      "cell_type": "markdown",
      "metadata": {
        "id": "YySGxvzUD1-l",
        "colab_type": "text"
      },
      "source": [
        "#####每stepsize个连续的原始数据组成一个时间子序列，允许每两个label边界处两个label划分到一个子序列的情况(该方法的好处是：将多个数据集concatenate到一起后更容易做切片操作),然后将每个子序列(子序列长度为stepsize)作为新的example输入到 LSTM 中。"
      ]
    },
    {
      "cell_type": "code",
      "metadata": {
        "id": "YRO5GkEk1p93",
        "colab_type": "code",
        "colab": {}
      },
      "source": [
        "stepsize=30\n",
        "\n",
        "data = my_data[1:10]\n",
        "mydata = data.T\n",
        "len_d=mydata.shape[0]     #length of data\n",
        "num_s=int(len_d/stepsize) #number of subsequence\n",
        "data=np.ndarray((num_s,stepsize,9))\n",
        "for i in range(num_s):\n",
        "  for j in range(stepsize):\n",
        "    for k in range(9):\n",
        "      data[i,j,k]=mydata[stepsize*i+j,k]  #slice every stepsize original examples"
      ],
      "execution_count": 0,
      "outputs": []
    },
    {
      "cell_type": "markdown",
      "metadata": {
        "id": "PCsdMsvsdaBC",
        "colab_type": "text"
      },
      "source": [
        "Data Splitting"
      ]
    },
    {
      "cell_type": "code",
      "metadata": {
        "id": "kjR7Os79P-qs",
        "colab_type": "code",
        "outputId": "f299fb6a-adfc-48b4-c8b9-a54c6e06a558",
        "colab": {
          "base_uri": "https://localhost:8080/",
          "height": 51
        }
      },
      "source": [
        "#分割数据时需要考虑是否 shuffle 数据, here we shuffle the data\n",
        "np.random.seed(0)\n",
        "np.random.shuffle(data)\n",
        "features=data[:,:,0:8]\n",
        "label=data[:,:,8:9]-1\n",
        "label=np.reshape(label,(label.shape[0]*label.shape[1],1))\n",
        "print(\"original shape: {0}\".format(features.shape))\n",
        "\n",
        "length =features.shape[0]\n",
        "train_x = features[0:int(length*0.7), :,:]\n",
        "train_y = label[0:int(length*0.7)*stepsize, :]\n",
        "dev_x = features[int(length*0.7):int(length*0.9),:,:]\n",
        "dev_y = label[int(length*0.7)*stepsize:int(length*0.9)*stepsize, :]\n",
        "test_x=features[int(length*0.9):,:,:]\n",
        "test_y=label[int(length*0.9)*stepsize:,:]\n",
        "print(\"splitted shape:{0}\" .format(dev_y.shape))"
      ],
      "execution_count": 0,
      "outputs": [
        {
          "output_type": "stream",
          "text": [
            "original shape: (7139, 27, 8)\n",
            "splitted shape:(38556, 1)\n"
          ],
          "name": "stdout"
        }
      ]
    },
    {
      "cell_type": "markdown",
      "metadata": {
        "id": "NdS3sOe5daBV",
        "colab_type": "text"
      },
      "source": [
        "label的格式要和model要求的格式吻合，但是onehot之后的是二维数据，需要用reshape扩维;\n",
        "Onehot的使用方法：使用sklearn库的LabelBinarizer方法进行 fit_transform,前提是数据本身得是 2 维的，如果维数不合适可在fit_transform之后使用numpy.reshape方法进行维数变换"
      ]
    },
    {
      "cell_type": "markdown",
      "metadata": {
        "id": "WpNckhXOnKRi",
        "colab_type": "text"
      },
      "source": [
        "Label Binarizer"
      ]
    },
    {
      "cell_type": "code",
      "metadata": {
        "id": "_alVnFUodaBW",
        "colab_type": "code",
        "outputId": "7a043b20-a97e-4b1f-fab9-c405e18b9bff",
        "colab": {
          "base_uri": "https://localhost:8080/",
          "height": 34
        }
      },
      "source": [
        "from sklearn.preprocessing import LabelBinarizer\n",
        "label_encoder=LabelBinarizer()\n",
        "y_train=label_encoder.fit_transform(train_y)\n",
        "y_val=label_encoder.fit_transform(dev_y)\n",
        "y_test=label_encoder.fit_transform(test_y)\n",
        "y_train=np.reshape(y_train,(int(y_train.shape[0]/stepsize),stepsize,y_train.shape[1]))\n",
        "y_val=np.reshape(y_val,(int(y_val.shape[0]/stepsize),stepsize,y_val.shape[1]))\n",
        "y_test=np.reshape(y_test,(int(y_test.shape[0]/stepsize),stepsize,y_test.shape[1]))\n",
        "print(\"onehot之后的shape:{0}\".format(y_test.shape))"
      ],
      "execution_count": 0,
      "outputs": [
        {
          "output_type": "stream",
          "text": [
            "onehot之后的shape:(714, 27, 12)\n"
          ],
          "name": "stdout"
        }
      ]
    },
    {
      "cell_type": "markdown",
      "metadata": {
        "id": "r9V4IIVFdaBc",
        "colab_type": "text"
      },
      "source": [
        "## Building network\n",
        "\n",
        "For this reason we will use larger layers. Let's go with 64 units:"
      ]
    },
    {
      "cell_type": "code",
      "metadata": {
        "id": "Ru--jiYSdaBc",
        "colab_type": "code",
        "colab": {}
      },
      "source": [
        "import tensorflow as tf\n",
        "from keras import models\n",
        "from keras import layers\n",
        "from keras import optimizers\n",
        "from keras.wrappers.scikit_learn import KerasClassifier\n",
        "model = models.Sequential()\n",
        "model.add(layers.LSTM(64,input_shape=(stepsize,8),activation='relu',return_sequences=True,dropout=0))\n",
        "model.add(layers.LSTM(64, activation='relu',return_sequences=True))\n",
        "model.add(layers.LSTM(32, activation='relu',return_sequences=True,dropout=0))\n",
        "model.add(layers.LSTM(16, activation='relu',return_sequences=True,dropout=0))\n",
        "model.add(layers.Dense(12, activation='softmax'))\n",
        "epoch = 100\n",
        "learning_rate = 0.001\n",
        "decay_rate = learning_rate / epoch\n",
        "momentum = 0.8\n",
        "adam = optimizers.Adam(lr=learning_rate, decay=decay_rate)\n",
        "model.compile(optimizer='adam',\n",
        "              loss='categorical_crossentropy',\n",
        "              metrics=['accuracy'])"
      ],
      "execution_count": 0,
      "outputs": []
    },
    {
      "cell_type": "markdown",
      "metadata": {
        "id": "usJm-Bby2Tpv",
        "colab_type": "text"
      },
      "source": [
        "## Set checkpoints to save the best model"
      ]
    },
    {
      "cell_type": "code",
      "metadata": {
        "id": "lYkW3W3E12Li",
        "colab_type": "code",
        "colab": {}
      },
      "source": [
        "from keras.callbacks import ModelCheckpoint\n",
        "import os\n",
        "import argparse\n",
        "# ap = argparse.ArgumentParser()\n",
        "# ap.add_argument(\"-w\",\"--weights\",required=True, help=\"path to weights directory\")\n",
        "# args = vars(ap.parse_args())\n",
        "fname = \"weights.best.hdf5\"\n",
        "checkpoint = ModelCheckpoint(fname,monitor=\"val_acc\",mode=\"max\", save_best_only=True,verbose=1)\n",
        "callbacks = [checkpoint]"
      ],
      "execution_count": 0,
      "outputs": []
    },
    {
      "cell_type": "markdown",
      "metadata": {
        "id": "Ltwcvw8wdaBi",
        "colab_type": "text"
      },
      "source": [
        "## Validating our approach\n"
      ]
    },
    {
      "cell_type": "markdown",
      "metadata": {
        "id": "Ey5mWLtkdaBj",
        "colab_type": "text"
      },
      "source": [
        "Now let's train our network using grid search:"
      ]
    },
    {
      "cell_type": "code",
      "metadata": {
        "id": "DDZFCfeFdaBk",
        "colab_type": "code",
        "outputId": "3060bae0-7514-43e0-b383-e91473c3eb01",
        "colab": {
          "base_uri": "https://localhost:8080/",
          "height": 1000
        }
      },
      "source": [
        "history = model.fit(train_x, y_train, epochs=epoch, \n",
        "                    batch_size=500, validation_data=(dev_x, y_val),callbacks=callbacks)"
      ],
      "execution_count": 0,
      "outputs": [
        {
          "output_type": "stream",
          "text": [
            "Train on 4997 samples, validate on 1428 samples\n",
            "Epoch 1/100\n",
            "4997/4997 [==============================] - 21s 4ms/step - loss: 2.2953 - acc: 0.1517 - val_loss: 2.1197 - val_acc: 0.1830\n",
            "\n",
            "Epoch 00001: val_acc improved from -inf to 0.18295, saving model to weights.best.hdf5\n",
            "Epoch 2/100\n",
            "4997/4997 [==============================] - 14s 3ms/step - loss: 1.9340 - acc: 0.2352 - val_loss: 1.7404 - val_acc: 0.3244\n",
            "\n",
            "Epoch 00002: val_acc improved from 0.18295 to 0.32444, saving model to weights.best.hdf5\n",
            "Epoch 3/100\n",
            "4997/4997 [==============================] - 14s 3ms/step - loss: 1.5439 - acc: 0.3748 - val_loss: 1.5178 - val_acc: 0.3513\n",
            "\n",
            "Epoch 00003: val_acc improved from 0.32444 to 0.35128, saving model to weights.best.hdf5\n",
            "Epoch 4/100\n",
            "4997/4997 [==============================] - 14s 3ms/step - loss: 1.3000 - acc: 0.4696 - val_loss: 1.2559 - val_acc: 0.4821\n",
            "\n",
            "Epoch 00004: val_acc improved from 0.35128 to 0.48208, saving model to weights.best.hdf5\n",
            "Epoch 5/100\n",
            "4997/4997 [==============================] - 14s 3ms/step - loss: 1.1743 - acc: 0.5232 - val_loss: 1.2842 - val_acc: 0.4719\n",
            "\n",
            "Epoch 00005: val_acc did not improve from 0.48208\n",
            "Epoch 6/100\n",
            "4997/4997 [==============================] - 14s 3ms/step - loss: 1.0927 - acc: 0.5559 - val_loss: 1.0430 - val_acc: 0.5696\n",
            "\n",
            "Epoch 00006: val_acc improved from 0.48208 to 0.56964, saving model to weights.best.hdf5\n",
            "Epoch 7/100\n",
            "4997/4997 [==============================] - 14s 3ms/step - loss: 0.9972 - acc: 0.5957 - val_loss: 1.0142 - val_acc: 0.6180\n",
            "\n",
            "Epoch 00007: val_acc improved from 0.56964 to 0.61801, saving model to weights.best.hdf5\n",
            "Epoch 8/100\n",
            "4997/4997 [==============================] - 14s 3ms/step - loss: 0.9241 - acc: 0.6355 - val_loss: 0.9007 - val_acc: 0.6542\n",
            "\n",
            "Epoch 00008: val_acc improved from 0.61801 to 0.65419, saving model to weights.best.hdf5\n",
            "Epoch 9/100\n",
            "4997/4997 [==============================] - 14s 3ms/step - loss: 0.9084 - acc: 0.6541 - val_loss: 0.8810 - val_acc: 0.6810\n",
            "\n",
            "Epoch 00009: val_acc improved from 0.65419 to 0.68101, saving model to weights.best.hdf5\n",
            "Epoch 10/100\n",
            "4997/4997 [==============================] - 14s 3ms/step - loss: 0.8801 - acc: 0.6617 - val_loss: 0.8263 - val_acc: 0.6801\n",
            "\n",
            "Epoch 00010: val_acc did not improve from 0.68101\n",
            "Epoch 11/100\n",
            "4997/4997 [==============================] - 14s 3ms/step - loss: 0.7959 - acc: 0.6927 - val_loss: 0.7895 - val_acc: 0.6988\n",
            "\n",
            "Epoch 00011: val_acc improved from 0.68101 to 0.69880, saving model to weights.best.hdf5\n",
            "Epoch 12/100\n",
            "4997/4997 [==============================] - 14s 3ms/step - loss: 0.7035 - acc: 0.7371 - val_loss: 0.7512 - val_acc: 0.7230\n",
            "\n",
            "Epoch 00012: val_acc improved from 0.69880 to 0.72300, saving model to weights.best.hdf5\n",
            "Epoch 13/100\n",
            "4997/4997 [==============================] - 14s 3ms/step - loss: 0.6660 - acc: 0.7505 - val_loss: 0.6751 - val_acc: 0.7614\n",
            "\n",
            "Epoch 00013: val_acc improved from 0.72300 to 0.76144, saving model to weights.best.hdf5\n",
            "Epoch 14/100\n",
            "4997/4997 [==============================] - 14s 3ms/step - loss: 0.6242 - acc: 0.7700 - val_loss: 0.6257 - val_acc: 0.7761\n",
            "\n",
            "Epoch 00014: val_acc improved from 0.76144 to 0.77612, saving model to weights.best.hdf5\n",
            "Epoch 15/100\n",
            "4997/4997 [==============================] - 14s 3ms/step - loss: 0.5788 - acc: 0.7883 - val_loss: 0.5931 - val_acc: 0.7840\n",
            "\n",
            "Epoch 00015: val_acc improved from 0.77612 to 0.78403, saving model to weights.best.hdf5\n",
            "Epoch 16/100\n",
            "4997/4997 [==============================] - 14s 3ms/step - loss: 0.5439 - acc: 0.8027 - val_loss: 0.5556 - val_acc: 0.8050\n",
            "\n",
            "Epoch 00016: val_acc improved from 0.78403 to 0.80501, saving model to weights.best.hdf5\n",
            "Epoch 17/100\n",
            "4997/4997 [==============================] - 14s 3ms/step - loss: 0.5351 - acc: 0.8057 - val_loss: 0.5067 - val_acc: 0.8213\n",
            "\n",
            "Epoch 00017: val_acc improved from 0.80501 to 0.82127, saving model to weights.best.hdf5\n",
            "Epoch 18/100\n",
            "4997/4997 [==============================] - 14s 3ms/step - loss: 0.4980 - acc: 0.8209 - val_loss: 0.5123 - val_acc: 0.8208\n",
            "\n",
            "Epoch 00018: val_acc did not improve from 0.82127\n",
            "Epoch 19/100\n",
            "4997/4997 [==============================] - 14s 3ms/step - loss: 0.4698 - acc: 0.8330 - val_loss: 0.5127 - val_acc: 0.8221\n",
            "\n",
            "Epoch 00019: val_acc improved from 0.82127 to 0.82208, saving model to weights.best.hdf5\n",
            "Epoch 20/100\n",
            "4997/4997 [==============================] - 14s 3ms/step - loss: 0.4620 - acc: 0.8345 - val_loss: 0.4650 - val_acc: 0.8378\n",
            "\n",
            "Epoch 00020: val_acc improved from 0.82208 to 0.83779, saving model to weights.best.hdf5\n",
            "Epoch 21/100\n",
            "4997/4997 [==============================] - 14s 3ms/step - loss: 0.4381 - acc: 0.8436 - val_loss: 0.4659 - val_acc: 0.8355\n",
            "\n",
            "Epoch 00021: val_acc did not improve from 0.83779\n",
            "Epoch 22/100\n",
            "4997/4997 [==============================] - 14s 3ms/step - loss: 0.4361 - acc: 0.8442 - val_loss: 0.4853 - val_acc: 0.8267\n",
            "\n",
            "Epoch 00022: val_acc did not improve from 0.83779\n",
            "Epoch 23/100\n",
            "4997/4997 [==============================] - 14s 3ms/step - loss: 0.4123 - acc: 0.8526 - val_loss: 0.4566 - val_acc: 0.8416\n",
            "\n",
            "Epoch 00023: val_acc improved from 0.83779 to 0.84158, saving model to weights.best.hdf5\n",
            "Epoch 24/100\n",
            "4997/4997 [==============================] - 14s 3ms/step - loss: 0.3943 - acc: 0.8580 - val_loss: 0.4327 - val_acc: 0.8520\n",
            "\n",
            "Epoch 00024: val_acc improved from 0.84158 to 0.85198, saving model to weights.best.hdf5\n",
            "Epoch 25/100\n",
            "4997/4997 [==============================] - 14s 3ms/step - loss: 0.3916 - acc: 0.8613 - val_loss: 0.4315 - val_acc: 0.8462\n",
            "\n",
            "Epoch 00025: val_acc did not improve from 0.85198\n",
            "Epoch 26/100\n",
            "4997/4997 [==============================] - 14s 3ms/step - loss: 0.3772 - acc: 0.8661 - val_loss: 0.4041 - val_acc: 0.8577\n",
            "\n",
            "Epoch 00026: val_acc improved from 0.85198 to 0.85769, saving model to weights.best.hdf5\n",
            "Epoch 27/100\n",
            "4997/4997 [==============================] - 14s 3ms/step - loss: 0.3718 - acc: 0.8669 - val_loss: 0.3971 - val_acc: 0.8625\n",
            "\n",
            "Epoch 00027: val_acc improved from 0.85769 to 0.86246, saving model to weights.best.hdf5\n",
            "Epoch 28/100\n",
            "4997/4997 [==============================] - 14s 3ms/step - loss: 0.4559 - acc: 0.8452 - val_loss: 0.4426 - val_acc: 0.8512\n",
            "\n",
            "Epoch 00028: val_acc did not improve from 0.86246\n",
            "Epoch 29/100\n",
            "4997/4997 [==============================] - 14s 3ms/step - loss: 0.3793 - acc: 0.8676 - val_loss: 0.3937 - val_acc: 0.8623\n",
            "\n",
            "Epoch 00029: val_acc did not improve from 0.86246\n",
            "Epoch 30/100\n",
            "4997/4997 [==============================] - 14s 3ms/step - loss: 0.3475 - acc: 0.8746 - val_loss: 0.4143 - val_acc: 0.8553\n",
            "\n",
            "Epoch 00030: val_acc did not improve from 0.86246\n",
            "Epoch 31/100\n",
            "4997/4997 [==============================] - 14s 3ms/step - loss: 0.3460 - acc: 0.8772 - val_loss: 0.3648 - val_acc: 0.8713\n",
            "\n",
            "Epoch 00031: val_acc improved from 0.86246 to 0.87128, saving model to weights.best.hdf5\n",
            "Epoch 32/100\n",
            "4997/4997 [==============================] - 14s 3ms/step - loss: 0.3272 - acc: 0.8815 - val_loss: 0.3954 - val_acc: 0.8619\n",
            "\n",
            "Epoch 00032: val_acc did not improve from 0.87128\n",
            "Epoch 33/100\n",
            "4997/4997 [==============================] - 14s 3ms/step - loss: 0.3169 - acc: 0.8864 - val_loss: 0.3824 - val_acc: 0.8645\n",
            "\n",
            "Epoch 00033: val_acc did not improve from 0.87128\n",
            "Epoch 34/100\n",
            "4997/4997 [==============================] - 14s 3ms/step - loss: 0.3190 - acc: 0.8858 - val_loss: 0.3468 - val_acc: 0.8784\n",
            "\n",
            "Epoch 00034: val_acc improved from 0.87128 to 0.87836, saving model to weights.best.hdf5\n",
            "Epoch 35/100\n",
            "4997/4997 [==============================] - 14s 3ms/step - loss: 0.3061 - acc: 0.8899 - val_loss: 0.3533 - val_acc: 0.8755\n",
            "\n",
            "Epoch 00035: val_acc did not improve from 0.87836\n",
            "Epoch 36/100\n",
            "4997/4997 [==============================] - 14s 3ms/step - loss: 0.3008 - acc: 0.8906 - val_loss: 0.3449 - val_acc: 0.8804\n",
            "\n",
            "Epoch 00036: val_acc improved from 0.87836 to 0.88036, saving model to weights.best.hdf5\n",
            "Epoch 37/100\n",
            "4997/4997 [==============================] - 14s 3ms/step - loss: 0.2973 - acc: 0.8934 - val_loss: 0.3515 - val_acc: 0.8777\n",
            "\n",
            "Epoch 00037: val_acc did not improve from 0.88036\n",
            "Epoch 38/100\n",
            "4997/4997 [==============================] - 14s 3ms/step - loss: 0.2963 - acc: 0.8945 - val_loss: 0.3180 - val_acc: 0.8904\n",
            "\n",
            "Epoch 00038: val_acc improved from 0.88036 to 0.89042, saving model to weights.best.hdf5\n",
            "Epoch 39/100\n",
            "4997/4997 [==============================] - 14s 3ms/step - loss: 0.2927 - acc: 0.8951 - val_loss: 0.3669 - val_acc: 0.8756\n",
            "\n",
            "Epoch 00039: val_acc did not improve from 0.89042\n",
            "Epoch 40/100\n",
            "4997/4997 [==============================] - 14s 3ms/step - loss: 0.2780 - acc: 0.9000 - val_loss: 0.3217 - val_acc: 0.8873\n",
            "\n",
            "Epoch 00040: val_acc did not improve from 0.89042\n",
            "Epoch 41/100\n",
            "4997/4997 [==============================] - 14s 3ms/step - loss: 0.2795 - acc: 0.9000 - val_loss: 0.3550 - val_acc: 0.8765\n",
            "\n",
            "Epoch 00041: val_acc did not improve from 0.89042\n",
            "Epoch 42/100\n",
            "4997/4997 [==============================] - 14s 3ms/step - loss: 0.2667 - acc: 0.9049 - val_loss: 0.3681 - val_acc: 0.8769\n",
            "\n",
            "Epoch 00042: val_acc did not improve from 0.89042\n",
            "Epoch 43/100\n",
            "4997/4997 [==============================] - 14s 3ms/step - loss: 0.2710 - acc: 0.9021 - val_loss: 0.3394 - val_acc: 0.8791\n",
            "\n",
            "Epoch 00043: val_acc did not improve from 0.89042\n",
            "Epoch 44/100\n",
            "4997/4997 [==============================] - 14s 3ms/step - loss: 0.2666 - acc: 0.9037 - val_loss: 0.3215 - val_acc: 0.8903\n",
            "\n",
            "Epoch 00044: val_acc did not improve from 0.89042\n",
            "Epoch 45/100\n",
            "4997/4997 [==============================] - 14s 3ms/step - loss: 0.2564 - acc: 0.9073 - val_loss: 0.3505 - val_acc: 0.8828\n",
            "\n",
            "Epoch 00045: val_acc did not improve from 0.89042\n",
            "Epoch 46/100\n",
            "4997/4997 [==============================] - 14s 3ms/step - loss: 0.2607 - acc: 0.9074 - val_loss: 0.3146 - val_acc: 0.8914\n",
            "\n",
            "Epoch 00046: val_acc improved from 0.89042 to 0.89140, saving model to weights.best.hdf5\n",
            "Epoch 47/100\n",
            "4997/4997 [==============================] - 14s 3ms/step - loss: 0.2489 - acc: 0.9106 - val_loss: 0.2927 - val_acc: 0.9010\n",
            "\n",
            "Epoch 00047: val_acc improved from 0.89140 to 0.90100, saving model to weights.best.hdf5\n",
            "Epoch 48/100\n",
            "4997/4997 [==============================] - 14s 3ms/step - loss: 0.2523 - acc: 0.9082 - val_loss: 0.3127 - val_acc: 0.8904\n",
            "\n",
            "Epoch 00048: val_acc did not improve from 0.90100\n",
            "Epoch 49/100\n",
            "4997/4997 [==============================] - 14s 3ms/step - loss: 0.2581 - acc: 0.9088 - val_loss: 0.3186 - val_acc: 0.8913\n",
            "\n",
            "Epoch 00049: val_acc did not improve from 0.90100\n",
            "Epoch 50/100\n",
            "4997/4997 [==============================] - 14s 3ms/step - loss: 0.8579 - acc: 0.7619 - val_loss: 0.5533 - val_acc: 0.7924\n",
            "\n",
            "Epoch 00050: val_acc did not improve from 0.90100\n",
            "Epoch 51/100\n",
            "4997/4997 [==============================] - 14s 3ms/step - loss: 0.4566 - acc: 0.8289 - val_loss: 0.4825 - val_acc: 0.8203\n",
            "\n",
            "Epoch 00051: val_acc did not improve from 0.90100\n",
            "Epoch 52/100\n",
            "4997/4997 [==============================] - 14s 3ms/step - loss: 0.3819 - acc: 0.8548 - val_loss: 0.3974 - val_acc: 0.8547\n",
            "\n",
            "Epoch 00052: val_acc did not improve from 0.90100\n",
            "Epoch 53/100\n",
            "4997/4997 [==============================] - 14s 3ms/step - loss: 0.3409 - acc: 0.8729 - val_loss: 0.3838 - val_acc: 0.8626\n",
            "\n",
            "Epoch 00053: val_acc did not improve from 0.90100\n",
            "Epoch 54/100\n",
            "4997/4997 [==============================] - 14s 3ms/step - loss: 0.3199 - acc: 0.8815 - val_loss: 0.3703 - val_acc: 0.8692\n",
            "\n",
            "Epoch 00054: val_acc did not improve from 0.90100\n",
            "Epoch 55/100\n",
            "4997/4997 [==============================] - 14s 3ms/step - loss: 0.3045 - acc: 0.8876 - val_loss: 0.3753 - val_acc: 0.8641\n",
            "\n",
            "Epoch 00055: val_acc did not improve from 0.90100\n",
            "Epoch 56/100\n",
            "4997/4997 [==============================] - 14s 3ms/step - loss: 0.2929 - acc: 0.8921 - val_loss: 0.3392 - val_acc: 0.8776\n",
            "\n",
            "Epoch 00056: val_acc did not improve from 0.90100\n",
            "Epoch 57/100\n",
            "4997/4997 [==============================] - 14s 3ms/step - loss: 0.2796 - acc: 0.8971 - val_loss: 0.3434 - val_acc: 0.8778\n",
            "\n",
            "Epoch 00057: val_acc did not improve from 0.90100\n",
            "Epoch 58/100\n",
            "4997/4997 [==============================] - 14s 3ms/step - loss: 0.2709 - acc: 0.9015 - val_loss: 0.3425 - val_acc: 0.8813\n",
            "\n",
            "Epoch 00058: val_acc did not improve from 0.90100\n",
            "Epoch 59/100\n",
            "4997/4997 [==============================] - 14s 3ms/step - loss: 0.2665 - acc: 0.9024 - val_loss: 0.3199 - val_acc: 0.8857\n",
            "\n",
            "Epoch 00059: val_acc did not improve from 0.90100\n",
            "Epoch 60/100\n",
            "4997/4997 [==============================] - 14s 3ms/step - loss: 0.2619 - acc: 0.9053 - val_loss: 0.3376 - val_acc: 0.8792\n",
            "\n",
            "Epoch 00060: val_acc did not improve from 0.90100\n",
            "Epoch 61/100\n",
            "4997/4997 [==============================] - 14s 3ms/step - loss: 0.2526 - acc: 0.9088 - val_loss: 0.3172 - val_acc: 0.8897\n",
            "\n",
            "Epoch 00061: val_acc did not improve from 0.90100\n",
            "Epoch 62/100\n",
            "4997/4997 [==============================] - 14s 3ms/step - loss: 0.2421 - acc: 0.9111 - val_loss: 0.3290 - val_acc: 0.8866\n",
            "\n",
            "Epoch 00062: val_acc did not improve from 0.90100\n",
            "Epoch 63/100\n",
            "4997/4997 [==============================] - 14s 3ms/step - loss: 0.2426 - acc: 0.9119 - val_loss: 0.3245 - val_acc: 0.8884\n",
            "\n",
            "Epoch 00063: val_acc did not improve from 0.90100\n",
            "Epoch 64/100\n",
            "4997/4997 [==============================] - 14s 3ms/step - loss: 0.2718 - acc: 0.9047 - val_loss: 0.3132 - val_acc: 0.8882\n",
            "\n",
            "Epoch 00064: val_acc did not improve from 0.90100\n",
            "Epoch 65/100\n",
            "4997/4997 [==============================] - 14s 3ms/step - loss: 0.2420 - acc: 0.9115 - val_loss: 0.3187 - val_acc: 0.8894\n",
            "\n",
            "Epoch 00065: val_acc did not improve from 0.90100\n",
            "Epoch 66/100\n",
            "4997/4997 [==============================] - 14s 3ms/step - loss: 0.2308 - acc: 0.9157 - val_loss: 0.3194 - val_acc: 0.8899\n",
            "\n",
            "Epoch 00066: val_acc did not improve from 0.90100\n",
            "Epoch 67/100\n",
            "4997/4997 [==============================] - 14s 3ms/step - loss: 0.2203 - acc: 0.9203 - val_loss: 0.3037 - val_acc: 0.8941\n",
            "\n",
            "Epoch 00067: val_acc did not improve from 0.90100\n",
            "Epoch 68/100\n",
            "4997/4997 [==============================] - 14s 3ms/step - loss: 0.2219 - acc: 0.9197 - val_loss: 0.3354 - val_acc: 0.8884\n",
            "\n",
            "Epoch 00068: val_acc did not improve from 0.90100\n",
            "Epoch 69/100\n",
            "4997/4997 [==============================] - 14s 3ms/step - loss: 0.2210 - acc: 0.9194 - val_loss: 0.2964 - val_acc: 0.8982\n",
            "\n",
            "Epoch 00069: val_acc did not improve from 0.90100\n",
            "Epoch 70/100\n",
            "4997/4997 [==============================] - 14s 3ms/step - loss: 0.2196 - acc: 0.9204 - val_loss: 0.3189 - val_acc: 0.8911\n",
            "\n",
            "Epoch 00070: val_acc did not improve from 0.90100\n",
            "Epoch 71/100\n",
            "4997/4997 [==============================] - 14s 3ms/step - loss: 0.2146 - acc: 0.9218 - val_loss: 0.3402 - val_acc: 0.8916\n",
            "\n",
            "Epoch 00071: val_acc did not improve from 0.90100\n",
            "Epoch 72/100\n",
            "4997/4997 [==============================] - 14s 3ms/step - loss: 0.2090 - acc: 0.9234 - val_loss: 0.2993 - val_acc: 0.8998\n",
            "\n",
            "Epoch 00072: val_acc did not improve from 0.90100\n",
            "Epoch 73/100\n",
            "4997/4997 [==============================] - 14s 3ms/step - loss: 0.2143 - acc: 0.9216 - val_loss: 0.3073 - val_acc: 0.8940\n",
            "\n",
            "Epoch 00073: val_acc did not improve from 0.90100\n",
            "Epoch 74/100\n",
            "4997/4997 [==============================] - 14s 3ms/step - loss: 0.2142 - acc: 0.9226 - val_loss: 0.2829 - val_acc: 0.9002\n",
            "\n",
            "Epoch 00074: val_acc did not improve from 0.90100\n",
            "Epoch 75/100\n",
            "4997/4997 [==============================] - 14s 3ms/step - loss: 0.2072 - acc: 0.9249 - val_loss: 0.3031 - val_acc: 0.8988\n",
            "\n",
            "Epoch 00075: val_acc did not improve from 0.90100\n",
            "Epoch 76/100\n",
            "4997/4997 [==============================] - 14s 3ms/step - loss: 0.2046 - acc: 0.9256 - val_loss: 0.3021 - val_acc: 0.9000\n",
            "\n",
            "Epoch 00076: val_acc did not improve from 0.90100\n",
            "Epoch 77/100\n",
            "4997/4997 [==============================] - 14s 3ms/step - loss: 0.2069 - acc: 0.9252 - val_loss: 0.2827 - val_acc: 0.9039\n",
            "\n",
            "Epoch 00077: val_acc improved from 0.90100 to 0.90393, saving model to weights.best.hdf5\n",
            "Epoch 78/100\n",
            "4997/4997 [==============================] - 14s 3ms/step - loss: 0.1945 - acc: 0.9289 - val_loss: 0.2846 - val_acc: 0.9031\n",
            "\n",
            "Epoch 00078: val_acc did not improve from 0.90393\n",
            "Epoch 79/100\n",
            "4997/4997 [==============================] - 14s 3ms/step - loss: 0.1917 - acc: 0.9302 - val_loss: 0.2863 - val_acc: 0.9043\n",
            "\n",
            "Epoch 00079: val_acc improved from 0.90393 to 0.90432, saving model to weights.best.hdf5\n",
            "Epoch 80/100\n",
            "4997/4997 [==============================] - 14s 3ms/step - loss: 0.1968 - acc: 0.9286 - val_loss: 0.2844 - val_acc: 0.9033\n",
            "\n",
            "Epoch 00080: val_acc did not improve from 0.90432\n",
            "Epoch 81/100\n",
            "4997/4997 [==============================] - 14s 3ms/step - loss: 0.1889 - acc: 0.9310 - val_loss: 0.3248 - val_acc: 0.8896\n",
            "\n",
            "Epoch 00081: val_acc did not improve from 0.90432\n",
            "Epoch 82/100\n",
            "4997/4997 [==============================] - 14s 3ms/step - loss: 0.2345 - acc: 0.9155 - val_loss: 0.3439 - val_acc: 0.8801\n",
            "\n",
            "Epoch 00082: val_acc did not improve from 0.90432\n",
            "Epoch 83/100\n",
            "4997/4997 [==============================] - 14s 3ms/step - loss: 0.2885 - acc: 0.8981 - val_loss: 0.3089 - val_acc: 0.8930\n",
            "\n",
            "Epoch 00083: val_acc did not improve from 0.90432\n",
            "Epoch 84/100\n",
            "4997/4997 [==============================] - 14s 3ms/step - loss: 0.2159 - acc: 0.9222 - val_loss: 0.3154 - val_acc: 0.8933\n",
            "\n",
            "Epoch 00084: val_acc did not improve from 0.90432\n",
            "Epoch 85/100\n",
            "4997/4997 [==============================] - 14s 3ms/step - loss: 0.2016 - acc: 0.9270 - val_loss: 0.2930 - val_acc: 0.9005\n",
            "\n",
            "Epoch 00085: val_acc did not improve from 0.90432\n",
            "Epoch 86/100\n",
            "4997/4997 [==============================] - 14s 3ms/step - loss: 0.1884 - acc: 0.9325 - val_loss: 0.2803 - val_acc: 0.9050\n",
            "\n",
            "Epoch 00086: val_acc improved from 0.90432 to 0.90505, saving model to weights.best.hdf5\n",
            "Epoch 87/100\n",
            "4997/4997 [==============================] - 14s 3ms/step - loss: 0.2018 - acc: 0.9267 - val_loss: 0.2774 - val_acc: 0.9043\n",
            "\n",
            "Epoch 00087: val_acc did not improve from 0.90505\n",
            "Epoch 88/100\n",
            "4997/4997 [==============================] - 14s 3ms/step - loss: 0.1858 - acc: 0.9322 - val_loss: 0.2867 - val_acc: 0.9037\n",
            "\n",
            "Epoch 00088: val_acc did not improve from 0.90505\n",
            "Epoch 89/100\n",
            "4997/4997 [==============================] - 14s 3ms/step - loss: 0.1849 - acc: 0.9326 - val_loss: 0.3155 - val_acc: 0.8960\n",
            "\n",
            "Epoch 00089: val_acc did not improve from 0.90505\n",
            "Epoch 90/100\n",
            "4997/4997 [==============================] - 14s 3ms/step - loss: 0.1938 - acc: 0.9300 - val_loss: 0.4132 - val_acc: 0.8596\n",
            "\n",
            "Epoch 00090: val_acc did not improve from 0.90505\n",
            "Epoch 91/100\n",
            "4997/4997 [==============================] - 14s 3ms/step - loss: 0.2107 - acc: 0.9245 - val_loss: 0.2828 - val_acc: 0.9037\n",
            "\n",
            "Epoch 00091: val_acc did not improve from 0.90505\n",
            "Epoch 92/100\n",
            "4997/4997 [==============================] - 15s 3ms/step - loss: 0.1813 - acc: 0.9354 - val_loss: 0.2728 - val_acc: 0.9066\n",
            "\n",
            "Epoch 00092: val_acc improved from 0.90505 to 0.90663, saving model to weights.best.hdf5\n",
            "Epoch 93/100\n",
            "4997/4997 [==============================] - 14s 3ms/step - loss: 0.1720 - acc: 0.9386 - val_loss: 0.2904 - val_acc: 0.9041\n",
            "\n",
            "Epoch 00093: val_acc did not improve from 0.90663\n",
            "Epoch 94/100\n",
            "4997/4997 [==============================] - 14s 3ms/step - loss: 0.1789 - acc: 0.9355 - val_loss: 0.3069 - val_acc: 0.8984\n",
            "\n",
            "Epoch 00094: val_acc did not improve from 0.90663\n",
            "Epoch 95/100\n",
            "4997/4997 [==============================] - 14s 3ms/step - loss: 0.1812 - acc: 0.9345 - val_loss: 0.2920 - val_acc: 0.9027\n",
            "\n",
            "Epoch 00095: val_acc did not improve from 0.90663\n",
            "Epoch 96/100\n",
            "4997/4997 [==============================] - 15s 3ms/step - loss: 0.1767 - acc: 0.9354 - val_loss: 0.2797 - val_acc: 0.9038\n",
            "\n",
            "Epoch 00096: val_acc did not improve from 0.90663\n",
            "Epoch 97/100\n",
            "4997/4997 [==============================] - 14s 3ms/step - loss: 0.1707 - acc: 0.9385 - val_loss: 0.2877 - val_acc: 0.9042\n",
            "\n",
            "Epoch 00097: val_acc did not improve from 0.90663\n",
            "Epoch 98/100\n",
            "4997/4997 [==============================] - 14s 3ms/step - loss: 0.1836 - acc: 0.9341 - val_loss: 0.2655 - val_acc: 0.9117\n",
            "\n",
            "Epoch 00098: val_acc improved from 0.90663 to 0.91171, saving model to weights.best.hdf5\n",
            "Epoch 99/100\n",
            "4997/4997 [==============================] - 14s 3ms/step - loss: 0.1600 - acc: 0.9423 - val_loss: 0.2938 - val_acc: 0.9063\n",
            "\n",
            "Epoch 00099: val_acc did not improve from 0.91171\n",
            "Epoch 100/100\n",
            "4997/4997 [==============================] - 14s 3ms/step - loss: 0.1723 - acc: 0.9375 - val_loss: 0.2729 - val_acc: 0.9097\n",
            "\n",
            "Epoch 00100: val_acc did not improve from 0.91171\n"
          ],
          "name": "stdout"
        }
      ]
    },
    {
      "cell_type": "markdown",
      "metadata": {
        "id": "Ykb00s64daBm",
        "colab_type": "text"
      },
      "source": [
        "Let's display its loss and accuracy curves:"
      ]
    },
    {
      "cell_type": "code",
      "metadata": {
        "id": "0tnCWRdMdaBn",
        "colab_type": "code",
        "outputId": "a436100e-3792-49f3-bd3c-3eaf02cfe0ec",
        "colab": {
          "base_uri": "https://localhost:8080/",
          "height": 295
        }
      },
      "source": [
        "import matplotlib.pyplot as plt\n",
        "\n",
        "loss = history.history['loss']\n",
        "val_loss = history.history['val_loss']\n",
        "\n",
        "epochs = range(1, len(loss) + 1)\n",
        "\n",
        "plt.plot(epochs, loss, 'bo', label='Training loss')\n",
        "plt.plot(epochs, val_loss, 'b', label='Validation loss')\n",
        "plt.title('Training and validation loss')\n",
        "plt.xlabel('Epochs')\n",
        "plt.ylabel('Loss')\n",
        "plt.legend()\n",
        "\n",
        "plt.show()"
      ],
      "execution_count": 0,
      "outputs": [
        {
          "output_type": "display_data",
          "data": {
            "image/png": "[encoded data removed]",
            "text/plain": [
              "<Figure size 432x288 with 1 Axes>"
            ]
          },
          "metadata": {
            "tags": []
          }
        }
      ]
    },
    {
      "cell_type": "code",
      "metadata": {
        "scrolled": true,
        "id": "QPVXfH0bdaBq",
        "colab_type": "code",
        "outputId": "554bfce2-37c7-4439-eb68-e76121916bf0",
        "colab": {
          "base_uri": "https://localhost:8080/",
          "height": 295
        }
      },
      "source": [
        "plt.clf()   # clear figure\n",
        "\n",
        "acc = history.history['acc']\n",
        "val_acc = history.history['val_acc']\n",
        "\n",
        "plt.plot(epochs, acc, 'bo', label='Training acc')\n",
        "plt.plot(epochs, val_acc, 'b', label='Validation acc')\n",
        "plt.title('Training and validation accuracy')\n",
        "plt.xlabel('Epochs')\n",
        "plt.ylabel('Loss')\n",
        "plt.legend()\n",
        "\n",
        "plt.show()"
      ],
      "execution_count": 0,
      "outputs": [
        {
          "output_type": "display_data",
          "data": {
            "image/png": "[encoded data removed]",
            "text/plain": [
              "<Figure size 432x288 with 1 Axes>"
            ]
          },
          "metadata": {
            "tags": []
          }
        }
      ]
    },
    {
      "cell_type": "markdown",
      "metadata": {
        "id": "K9o2NjMydaBs",
        "colab_type": "text"
      },
      "source": [
        "## TEST"
      ]
    },
    {
      "cell_type": "code",
      "metadata": {
        "id": "Bx3c5Irk0EsH",
        "colab_type": "code",
        "outputId": "2b1b37a7-3a42-42ea-c83c-de262b9ca4ce",
        "colab": {
          "base_uri": "https://localhost:8080/",
          "height": 34
        }
      },
      "source": [
        "y_test.shape"
      ],
      "execution_count": 0,
      "outputs": [
        {
          "output_type": "execute_result",
          "data": {
            "text/plain": [
              "(19278, 12)"
            ]
          },
          "metadata": {
            "tags": []
          },
          "execution_count": 78
        }
      ]
    },
    {
      "cell_type": "code",
      "metadata": {
        "id": "lyDVc0UUdaBt",
        "colab_type": "code",
        "outputId": "c00a50e4-d971-4655-8cb4-82c4732286e9",
        "colab": {
          "base_uri": "https://localhost:8080/",
          "height": 382
        }
      },
      "source": [
        "#test_x=np.reshape(test_x,(test_x.shape[0],1,test_x.shape[1]))\n",
        "#predictions = model.predict(test_x)\n",
        "...\n",
        "# evaluate the keras model\n",
        "from sklearn import metrics\n",
        "from sklearn.metrics import confusion_matrix\n",
        "from sklearn.metrics import accuracy_score\n",
        "model.load_weights('weights.best.hdf5')\n",
        "model.compile(optimizer='adam',\n",
        "              loss='categorical_crossentropy',\n",
        "              metrics=['accuracy'])\n",
        "_, accuracy = model.evaluate(test_x, y_test)\n",
        "print('Stepsize: %d \\nAccuracy: %.2f' % (stepsize,accuracy*100))\n"
      ],
      "execution_count": 0,
      "outputs": [
        {
          "output_type": "error",
          "ename": "ValueError",
          "evalue": "ignored",
          "traceback": [
            "\u001b[0;31m---------------------------------------------------------------------------\u001b[0m",
            "\u001b[0;31mValueError\u001b[0m                                Traceback (most recent call last)",
            "\u001b[0;32m<ipython-input-79-daac61efefda>\u001b[0m in \u001b[0;36m<module>\u001b[0;34m()\u001b[0m\n\u001b[1;32m      8\u001b[0m               \u001b[0mloss\u001b[0m\u001b[0;34m=\u001b[0m\u001b[0;34m'categorical_crossentropy'\u001b[0m\u001b[0;34m,\u001b[0m\u001b[0;34m\u001b[0m\u001b[0;34m\u001b[0m\u001b[0m\n\u001b[1;32m      9\u001b[0m               metrics=['accuracy'])\n\u001b[0;32m---> 10\u001b[0;31m \u001b[0m_\u001b[0m\u001b[0;34m,\u001b[0m \u001b[0maccuracy\u001b[0m \u001b[0;34m=\u001b[0m \u001b[0mmodel\u001b[0m\u001b[0;34m.\u001b[0m\u001b[0mevaluate\u001b[0m\u001b[0;34m(\u001b[0m\u001b[0mtest_x\u001b[0m\u001b[0;34m,\u001b[0m \u001b[0my_test\u001b[0m\u001b[0;34m)\u001b[0m\u001b[0;34m\u001b[0m\u001b[0;34m\u001b[0m\u001b[0m\n\u001b[0m\u001b[1;32m     11\u001b[0m \u001b[0mprint\u001b[0m\u001b[0;34m(\u001b[0m\u001b[0;34m'Stepsize: %d \\nAccuracy: %.2f'\u001b[0m \u001b[0;34m%\u001b[0m \u001b[0;34m(\u001b[0m\u001b[0mstepsize\u001b[0m\u001b[0;34m,\u001b[0m\u001b[0maccuracy\u001b[0m\u001b[0;34m*\u001b[0m\u001b[0;36m100\u001b[0m\u001b[0;34m)\u001b[0m\u001b[0;34m)\u001b[0m\u001b[0;34m\u001b[0m\u001b[0;34m\u001b[0m\u001b[0m\n",
            "\u001b[0;32m/usr/local/lib/python3.6/dist-packages/keras/engine/training.py\u001b[0m in \u001b[0;36mevaluate\u001b[0;34m(self, x, y, batch_size, verbose, sample_weight, steps, callbacks, max_queue_size, workers, use_multiprocessing)\u001b[0m\n\u001b[1;32m   1286\u001b[0m             \u001b[0mx\u001b[0m\u001b[0;34m,\u001b[0m \u001b[0my\u001b[0m\u001b[0;34m,\u001b[0m\u001b[0;34m\u001b[0m\u001b[0;34m\u001b[0m\u001b[0m\n\u001b[1;32m   1287\u001b[0m             \u001b[0msample_weight\u001b[0m\u001b[0;34m=\u001b[0m\u001b[0msample_weight\u001b[0m\u001b[0;34m,\u001b[0m\u001b[0;34m\u001b[0m\u001b[0;34m\u001b[0m\u001b[0m\n\u001b[0;32m-> 1288\u001b[0;31m             batch_size=batch_size)\n\u001b[0m\u001b[1;32m   1289\u001b[0m         \u001b[0;31m# Prepare inputs, delegate logic to `test_loop`.\u001b[0m\u001b[0;34m\u001b[0m\u001b[0;34m\u001b[0m\u001b[0;34m\u001b[0m\u001b[0m\n\u001b[1;32m   1290\u001b[0m         \u001b[0;32mif\u001b[0m \u001b[0mself\u001b[0m\u001b[0;34m.\u001b[0m\u001b[0m_uses_dynamic_learning_phase\u001b[0m\u001b[0;34m(\u001b[0m\u001b[0;34m)\u001b[0m\u001b[0;34m:\u001b[0m\u001b[0;34m\u001b[0m\u001b[0;34m\u001b[0m\u001b[0m\n",
            "\u001b[0;32m/usr/local/lib/python3.6/dist-packages/keras/engine/training.py\u001b[0m in \u001b[0;36m_standardize_user_data\u001b[0;34m(self, x, y, sample_weight, class_weight, check_array_lengths, batch_size)\u001b[0m\n\u001b[1;32m    793\u001b[0m                 \u001b[0mfeed_output_shapes\u001b[0m\u001b[0;34m,\u001b[0m\u001b[0;34m\u001b[0m\u001b[0;34m\u001b[0m\u001b[0m\n\u001b[1;32m    794\u001b[0m                 \u001b[0mcheck_batch_axis\u001b[0m\u001b[0;34m=\u001b[0m\u001b[0;32mFalse\u001b[0m\u001b[0;34m,\u001b[0m  \u001b[0;31m# Don't enforce the batch size.\u001b[0m\u001b[0;34m\u001b[0m\u001b[0;34m\u001b[0m\u001b[0m\n\u001b[0;32m--> 795\u001b[0;31m                 exception_prefix='target')\n\u001b[0m\u001b[1;32m    796\u001b[0m \u001b[0;34m\u001b[0m\u001b[0m\n\u001b[1;32m    797\u001b[0m             \u001b[0;31m# Generate sample-wise weight values given the `sample_weight` and\u001b[0m\u001b[0;34m\u001b[0m\u001b[0;34m\u001b[0m\u001b[0;34m\u001b[0m\u001b[0m\n",
            "\u001b[0;32m/usr/local/lib/python3.6/dist-packages/keras/engine/training_utils.py\u001b[0m in \u001b[0;36mstandardize_input_data\u001b[0;34m(data, names, shapes, check_batch_axis, exception_prefix)\u001b[0m\n\u001b[1;32m    129\u001b[0m                         \u001b[0;34m': expected '\u001b[0m \u001b[0;34m+\u001b[0m \u001b[0mnames\u001b[0m\u001b[0;34m[\u001b[0m\u001b[0mi\u001b[0m\u001b[0;34m]\u001b[0m \u001b[0;34m+\u001b[0m \u001b[0;34m' to have '\u001b[0m \u001b[0;34m+\u001b[0m\u001b[0;34m\u001b[0m\u001b[0;34m\u001b[0m\u001b[0m\n\u001b[1;32m    130\u001b[0m                         \u001b[0mstr\u001b[0m\u001b[0;34m(\u001b[0m\u001b[0mlen\u001b[0m\u001b[0;34m(\u001b[0m\u001b[0mshape\u001b[0m\u001b[0;34m)\u001b[0m\u001b[0;34m)\u001b[0m \u001b[0;34m+\u001b[0m \u001b[0;34m' dimensions, but got array '\u001b[0m\u001b[0;34m\u001b[0m\u001b[0;34m\u001b[0m\u001b[0m\n\u001b[0;32m--> 131\u001b[0;31m                         'with shape ' + str(data_shape))\n\u001b[0m\u001b[1;32m    132\u001b[0m                 \u001b[0;32mif\u001b[0m \u001b[0;32mnot\u001b[0m \u001b[0mcheck_batch_axis\u001b[0m\u001b[0;34m:\u001b[0m\u001b[0;34m\u001b[0m\u001b[0;34m\u001b[0m\u001b[0m\n\u001b[1;32m    133\u001b[0m                     \u001b[0mdata_shape\u001b[0m \u001b[0;34m=\u001b[0m \u001b[0mdata_shape\u001b[0m\u001b[0;34m[\u001b[0m\u001b[0;36m1\u001b[0m\u001b[0;34m:\u001b[0m\u001b[0;34m]\u001b[0m\u001b[0;34m\u001b[0m\u001b[0;34m\u001b[0m\u001b[0m\n",
            "\u001b[0;31mValueError\u001b[0m: Error when checking target: expected dense_7 to have 3 dimensions, but got array with shape (19278, 12)"
          ]
        }
      ]
    },
    {
      "cell_type": "code",
      "metadata": {
        "id": "JCW3OjthvGeI",
        "colab_type": "code",
        "colab": {}
      },
      "source": [
        "y_test = np.reshape(y_test,(y_test.shape[0]*y_test.shape[1],y_test.shape[2]))"
      ],
      "execution_count": 0,
      "outputs": []
    },
    {
      "cell_type": "code",
      "metadata": {
        "id": "H6u-na27daBv",
        "colab_type": "code",
        "colab": {}
      },
      "source": [
        "y_pred = model.predict(test_x)\n",
        "print(y_test.shape)\n",
        "y_pred = np.reshape(y_pred,(y_pred.shape[0]*y_pred.shape[1],y_pred.shape[2]))\n",
        "\n",
        "# accuracy = accuracy_score(y_test,y_pred.round())\n",
        "matrix = confusion_matrix(y_test.argmax(axis=1),y_pred.argmax(axis=1))\n",
        "# print('Accuracy: %.2f' % (accuracy*100))\n",
        "print('Confusion Matrix:\\n%s'%(matrix))"
      ],
      "execution_count": 0,
      "outputs": []
    },
    {
      "cell_type": "code",
      "metadata": {
        "id": "kVTmfpCBuzRt",
        "colab_type": "code",
        "colab": {}
      },
      "source": [
        ""
      ],
      "execution_count": 0,
      "outputs": []
    }
  ]
}