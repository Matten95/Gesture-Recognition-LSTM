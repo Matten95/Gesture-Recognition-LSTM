{
  "nbformat": 4,
  "nbformat_minor": 0,
  "metadata": {
    "kernelspec": {
      "name": "python3",
      "display_name": "Python 3"
    },
    "language_info": {
      "codemirror_mode": {
        "name": "ipython",
        "version": 3
      },
      "file_extension": ".py",
      "mimetype": "text/x-python",
      "name": "python",
      "nbconvert_exporter": "python",
      "pygments_lexer": "ipython3",
      "version": "3.7.3"
    },
    "colab": {
      "name": "EMG_LSTM2.ipynb",
      "provenance": [],
      "collapsed_sections": [],
      "toc_visible": true
    },
    "accelerator": "TPU"
  },
  "cells": [
    {
      "cell_type": "code",
      "metadata": {
        "id": "6mzAgNivdaAw",
        "colab_type": "code",
        "outputId": "2cccf2d5-3e3e-4d11-de3f-7221114c0152",
        "colab": {
          "base_uri": "https://localhost:8080/",
          "height": 101
        }
      },
      "source": [
        "  import keras\n",
        "keras.__version__"
      ],
      "execution_count": 1,
      "outputs": [
        {
          "output_type": "stream",
          "text": [
            "Using TensorFlow backend.\n"
          ],
          "name": "stderr"
        },
        {
          "output_type": "display_data",
          "data": {
            "text/html": [
              "<p style=\"color: red;\">\n",
              "The default version of TensorFlow in Colab will switch to TensorFlow 2.x on the 27th of March, 2020.<br>\n",
              "We recommend you <a href=\"https://www.tensorflow.org/guide/migrate\" target=\"_blank\">upgrade</a> now\n",
              "or ensure your notebook will continue to use TensorFlow 1.x via the <code>%tensorflow_version 1.x</code> magic:\n",
              "<a href=\"https://colab.research.google.com/notebooks/tensorflow_version.ipynb\" target=\"_blank\">more info</a>.</p>\n"
            ],
            "text/plain": [
              "<IPython.core.display.HTML object>"
            ]
          },
          "metadata": {
            "tags": []
          }
        },
        {
          "output_type": "execute_result",
          "data": {
            "text/plain": [
              "'2.2.5'"
            ]
          },
          "metadata": {
            "tags": []
          },
          "execution_count": 1
        }
      ]
    },
    {
      "cell_type": "markdown",
      "metadata": {
        "id": "lhnnGGq8kyWI",
        "colab_type": "text"
      },
      "source": [
        "###数据导入和处理\n"
      ]
    },
    {
      "cell_type": "code",
      "metadata": {
        "id": "LOnuqxz-daA1",
        "colab_type": "code",
        "colab": {}
      },
      "source": [
        "from numpy import genfromtxt\n",
        "import numpy as np\n",
        "my_data1 = genfromtxt('EMG_1ac10sec_MAT1-12.csv', delimiter=',')\n",
        "my_data2 = genfromtxt('EMG_1ac10sec_MAO4-12.csv', delimiter=',')\n",
        "my_data3 = genfromtxt('EMG_1ac10sec_MAT3-12.csv', delimiter=',')\n",
        "my_data4 = genfromtxt('EMG_1ac10sec_MAT4-12.csv', delimiter=',')\n",
        "my_data5 = genfromtxt('EMG_1ac10sec_MAO5-12.csv', delimiter=',')\n",
        "my_data = np.concatenate((my_data1,my_data2,my_data3,my_data4,my_data5),axis=1)\n",
        "\n"
      ],
      "execution_count": 0,
      "outputs": []
    },
    {
      "cell_type": "markdown",
      "metadata": {
        "id": "YySGxvzUD1-l",
        "colab_type": "text"
      },
      "source": [
        "#####每stepsize个连续的原始数据组成一个时间子序列，允许每两个label边界处两个label划分到一个子序列的情况(该方法的好处是：将多个数据集concatenate到一起后更容易做切片操作),然后将每个子序列(子序列长度为stepsize)作为新的example输入到 LSTM 中。"
      ]
    },
    {
      "cell_type": "code",
      "metadata": {
        "id": "YRO5GkEk1p93",
        "colab_type": "code",
        "outputId": "5756a04b-da8c-4b6f-a960-87091b7cefa5",
        "colab": {
          "base_uri": "https://localhost:8080/",
          "height": 54
        }
      },
      "source": [
        "stepsize=30\n",
        "\n",
        "data = my_data[1:10]\n",
        "mydata = data.T\n",
        "len_d=mydata.shape[0]     #length of data\n",
        "print(len_d/stepsize)\n",
        "num_s=int(len_d/stepsize) #number of subsequence\n",
        "data=np.ndarray((num_s,stepsize,9))\n",
        "i = 0\n",
        "while i < num_s:\n",
        "  while mydata[i*stepsize,8] != mydata[stepsize*(i+1)-1,8]:\n",
        "      mydata = np.delete(mydata,i*stepsize,axis=0)  #Delete a part of data to make each group of data is pure\n",
        "      len_d = mydata.shape[0]\n",
        "      num_s = int(len_d/stepsize) #update the number of subsequence\n",
        "  for j in range(stepsize):\n",
        "    for k in range(9):\n",
        "      data[i,j,k] = mydata[stepsize*i+j,k]\n",
        "  i += 1\n",
        "data=data[:num_s,:,:]    #num_s is updated\n",
        "print(data.shape)\n"
      ],
      "execution_count": 3,
      "outputs": [
        {
          "output_type": "stream",
          "text": [
            "8028.866666666667\n",
            "(7989, 30, 9)\n"
          ],
          "name": "stdout"
        }
      ]
    },
    {
      "cell_type": "markdown",
      "metadata": {
        "id": "PCsdMsvsdaBC",
        "colab_type": "text"
      },
      "source": [
        "Data Splitting"
      ]
    },
    {
      "cell_type": "code",
      "metadata": {
        "id": "kjR7Os79P-qs",
        "colab_type": "code",
        "outputId": "cf744f00-359e-4a08-a6b0-2264391b776b",
        "colab": {
          "base_uri": "https://localhost:8080/",
          "height": 54
        }
      },
      "source": [
        "#Here we shuffle data\n",
        "np.random.seed(0)\n",
        "np.random.shuffle(data)\n",
        "features=data[:,:,0:8]\n",
        "label=data[:,:,8:9]-1\n",
        "#label=np.reshape(label,(label.shape[0]*label.shape[1],1))\n",
        "print(\"original shape: {0}\".format(features.shape))\n",
        "\n",
        "length =features.shape[0]\n",
        "train_x = features[0:int(length*0.7), :,:]\n",
        "train_y = label[0:int(length*0.7),0, :]\n",
        "dev_x = features[int(length*0.7):int(length*0.9),:,:]\n",
        "dev_y = label[int(length*0.7):int(length*0.9),0,:]\n",
        "test_x=features[int(length*0.9):,:,:]\n",
        "test_y=label[int(length*0.9):,0,:]\n",
        "print(train_y.shape)"
      ],
      "execution_count": 4,
      "outputs": [
        {
          "output_type": "stream",
          "text": [
            "original shape: (7989, 30, 8)\n",
            "(5592, 1)\n"
          ],
          "name": "stdout"
        }
      ]
    },
    {
      "cell_type": "markdown",
      "metadata": {
        "id": "NdS3sOe5daBV",
        "colab_type": "text"
      },
      "source": [
        "label的格式要和model要求的格式吻合，但是onehot之后的是二维数据，需要用reshape扩维;\n",
        "Onehot的使用方法：使用sklearn库的LabelBinarizer方法进行 fit_transform,前提是数据本身得是 2 维的，如果维数不合适可在fit_transform之后使用numpy.reshape方法进行维数变换"
      ]
    },
    {
      "cell_type": "markdown",
      "metadata": {
        "id": "WpNckhXOnKRi",
        "colab_type": "text"
      },
      "source": [
        "Label Binarizer"
      ]
    },
    {
      "cell_type": "code",
      "metadata": {
        "id": "_alVnFUodaBW",
        "colab_type": "code",
        "outputId": "3b084ac6-46b3-42b4-9a06-797f55f96417",
        "colab": {
          "base_uri": "https://localhost:8080/",
          "height": 35
        }
      },
      "source": [
        "from sklearn.preprocessing import LabelBinarizer\n",
        "label_encoder=LabelBinarizer()\n",
        "y_train=label_encoder.fit_transform(train_y)\n",
        "y_val=label_encoder.fit_transform(dev_y)\n",
        "y_test=label_encoder.fit_transform(test_y)\n",
        "# y_train=np.reshape(y_train,(int(y_train.shape[0]),1,y_train.shape[1]))\n",
        "# y_val=np.reshape(y_val,(int(y_val.shape[0]),1,y_val.shape[1]))\n",
        "# y_test=np.reshape(y_test,(int(y_test.shape[0]),1,y_test.shape[1]))\n",
        "print(\"The shape after one-hot:{0}\".format(y_test.shape))"
      ],
      "execution_count": 5,
      "outputs": [
        {
          "output_type": "stream",
          "text": [
            "onehot之后的shape:(799, 12)\n"
          ],
          "name": "stdout"
        }
      ]
    },
    {
      "cell_type": "markdown",
      "metadata": {
        "id": "r9V4IIVFdaBc",
        "colab_type": "text"
      },
      "source": [
        "## Building network\n",
        "\n",
        "For this reason we will use larger layers. Let's go with 64 units:"
      ]
    },
    {
      "cell_type": "code",
      "metadata": {
        "id": "Ru--jiYSdaBc",
        "colab_type": "code",
        "colab": {}
      },
      "source": [
        "import tensorflow as tf\n",
        "from keras import models\n",
        "from keras import layers\n",
        "from keras import optimizers\n",
        "from keras.wrappers.scikit_learn import KerasClassifier\n",
        "model = models.Sequential()\n",
        "model.add(layers.LSTM(64,input_shape=(stepsize,8),activation='relu',return_sequences=True,dropout=0))\n",
        "# model.add(layers.LSTM(64, activation='relu',return_sequences=True))\n",
        "model.add(layers.LSTM(32, activation='relu',return_sequences=True,dropout=0))\n",
        "model.add(layers.LSTM(16, activation='relu',dropout=0))\n",
        "model.add(layers.Dense(12, activation='softmax'))\n",
        "epoch = 70\n",
        "learning_rate = 0.001\n",
        "decay_rate = learning_rate / epoch\n",
        "adam = optimizers.Adam(lr=learning_rate, decay=0)\n",
        "model.compile(optimizer='adam',\n",
        "              loss='categorical_crossentropy',\n",
        "              metrics=['accuracy'])"
      ],
      "execution_count": 0,
      "outputs": []
    },
    {
      "cell_type": "markdown",
      "metadata": {
        "id": "usJm-Bby2Tpv",
        "colab_type": "text"
      },
      "source": [
        "## Set checkpoints to save the best model"
      ]
    },
    {
      "cell_type": "code",
      "metadata": {
        "id": "lYkW3W3E12Li",
        "colab_type": "code",
        "colab": {}
      },
      "source": [
        "from keras.callbacks import ModelCheckpoint\n",
        "import os\n",
        "import argparse\n",
        "fname = \"weights.best.hdf5\"\n",
        "checkpoint = ModelCheckpoint(fname,monitor=\"val_acc\",mode=\"max\", save_best_only=True,verbose=1)\n",
        "callbacks = [checkpoint]"
      ],
      "execution_count": 0,
      "outputs": []
    },
    {
      "cell_type": "markdown",
      "metadata": {
        "id": "Ltwcvw8wdaBi",
        "colab_type": "text"
      },
      "source": [
        "## Validating our approach\n"
      ]
    },
    {
      "cell_type": "markdown",
      "metadata": {
        "id": "Ey5mWLtkdaBj",
        "colab_type": "text"
      },
      "source": [
        "Now let's train our network using grid search:"
      ]
    },
    {
      "cell_type": "code",
      "metadata": {
        "id": "DDZFCfeFdaBk",
        "colab_type": "code",
        "outputId": "e2ba4042-9756-4634-8d16-4a360c6c3f59",
        "colab": {
          "base_uri": "https://localhost:8080/",
          "height": 1000
        }
      },
      "source": [
        "history = model.fit(train_x, y_train, epochs=epoch, \n",
        "                    batch_size=30, validation_data=(dev_x, y_val),callbacks=callbacks)"
      ],
      "execution_count": 16,
      "outputs": [
        {
          "output_type": "stream",
          "text": [
            "Train on 5592 samples, validate on 1598 samples\n",
            "Epoch 1/70\n",
            "5592/5592 [==============================] - 15s 3ms/step - loss: 2.2475 - acc: 0.1761 - val_loss: 1.9232 - val_acc: 0.2522\n",
            "\n",
            "Epoch 00001: val_acc improved from -inf to 0.25219, saving model to weights.best.hdf5\n",
            "Epoch 2/70\n",
            "5592/5592 [==============================] - 12s 2ms/step - loss: 1.6882 - acc: 0.2947 - val_loss: 1.6274 - val_acc: 0.3605\n",
            "\n",
            "Epoch 00002: val_acc improved from 0.25219 to 0.36045, saving model to weights.best.hdf5\n",
            "Epoch 3/70\n",
            "5592/5592 [==============================] - 12s 2ms/step - loss: 1.5035 - acc: 0.3872 - val_loss: 1.4514 - val_acc: 0.3849\n",
            "\n",
            "Epoch 00003: val_acc improved from 0.36045 to 0.38486, saving model to weights.best.hdf5\n",
            "Epoch 4/70\n",
            "5592/5592 [==============================] - 12s 2ms/step - loss: 1.3592 - acc: 0.4499 - val_loss: 1.2943 - val_acc: 0.4681\n",
            "\n",
            "Epoch 00004: val_acc improved from 0.38486 to 0.46809, saving model to weights.best.hdf5\n",
            "Epoch 5/70\n",
            "5592/5592 [==============================] - 12s 2ms/step - loss: 1.2404 - acc: 0.4894 - val_loss: 1.1964 - val_acc: 0.5013\n",
            "\n",
            "Epoch 00005: val_acc improved from 0.46809 to 0.50125, saving model to weights.best.hdf5\n",
            "Epoch 6/70\n",
            "5592/5592 [==============================] - 12s 2ms/step - loss: 1.1382 - acc: 0.5347 - val_loss: 1.1073 - val_acc: 0.5213\n",
            "\n",
            "Epoch 00006: val_acc improved from 0.50125 to 0.52128, saving model to weights.best.hdf5\n",
            "Epoch 7/70\n",
            "5592/5592 [==============================] - 12s 2ms/step - loss: 1.0307 - acc: 0.5726 - val_loss: 1.0209 - val_acc: 0.5788\n",
            "\n",
            "Epoch 00007: val_acc improved from 0.52128 to 0.57885, saving model to weights.best.hdf5\n",
            "Epoch 8/70\n",
            "5592/5592 [==============================] - 12s 2ms/step - loss: 0.9878 - acc: 0.5917 - val_loss: 1.0875 - val_acc: 0.5657\n",
            "\n",
            "Epoch 00008: val_acc did not improve from 0.57885\n",
            "Epoch 9/70\n",
            "5592/5592 [==============================] - 12s 2ms/step - loss: 0.9055 - acc: 0.6304 - val_loss: 0.8875 - val_acc: 0.6421\n",
            "\n",
            "Epoch 00009: val_acc improved from 0.57885 to 0.64205, saving model to weights.best.hdf5\n",
            "Epoch 10/70\n",
            "5592/5592 [==============================] - 12s 2ms/step - loss: 0.8412 - acc: 0.6592 - val_loss: 0.8180 - val_acc: 0.6746\n",
            "\n",
            "Epoch 00010: val_acc improved from 0.64205 to 0.67459, saving model to weights.best.hdf5\n",
            "Epoch 11/70\n",
            "5592/5592 [==============================] - 12s 2ms/step - loss: 0.9600 - acc: 0.6400 - val_loss: 1.8967 - val_acc: 0.2897\n",
            "\n",
            "Epoch 00011: val_acc did not improve from 0.67459\n",
            "Epoch 12/70\n",
            "5592/5592 [==============================] - 12s 2ms/step - loss: 1.3416 - acc: 0.4742 - val_loss: 1.0243 - val_acc: 0.6095\n",
            "\n",
            "Epoch 00012: val_acc did not improve from 0.67459\n",
            "Epoch 13/70\n",
            "5592/5592 [==============================] - 12s 2ms/step - loss: 0.9253 - acc: 0.6332 - val_loss: 0.9090 - val_acc: 0.6283\n",
            "\n",
            "Epoch 00013: val_acc did not improve from 0.67459\n",
            "Epoch 14/70\n",
            "5592/5592 [==============================] - 12s 2ms/step - loss: 0.9131 - acc: 0.6406 - val_loss: 1.7741 - val_acc: 0.4205\n",
            "\n",
            "Epoch 00014: val_acc did not improve from 0.67459\n",
            "Epoch 15/70\n",
            "5592/5592 [==============================] - 12s 2ms/step - loss: 0.9084 - acc: 0.6393 - val_loss: 0.8490 - val_acc: 0.6615\n",
            "\n",
            "Epoch 00015: val_acc did not improve from 0.67459\n",
            "Epoch 16/70\n",
            "5592/5592 [==============================] - 12s 2ms/step - loss: 0.7741 - acc: 0.7015 - val_loss: 0.8318 - val_acc: 0.6640\n",
            "\n",
            "Epoch 00016: val_acc did not improve from 0.67459\n",
            "Epoch 17/70\n",
            "5592/5592 [==============================] - 12s 2ms/step - loss: 0.8843 - acc: 0.6747 - val_loss: 1.0897 - val_acc: 0.5726\n",
            "\n",
            "Epoch 00017: val_acc did not improve from 0.67459\n",
            "Epoch 18/70\n",
            "5592/5592 [==============================] - 12s 2ms/step - loss: 0.8000 - acc: 0.6849 - val_loss: 0.7192 - val_acc: 0.7253\n",
            "\n",
            "Epoch 00018: val_acc improved from 0.67459 to 0.72528, saving model to weights.best.hdf5\n",
            "Epoch 19/70\n",
            "5592/5592 [==============================] - 12s 2ms/step - loss: 0.6907 - acc: 0.7389 - val_loss: 0.6390 - val_acc: 0.7685\n",
            "\n",
            "Epoch 00019: val_acc improved from 0.72528 to 0.76846, saving model to weights.best.hdf5\n",
            "Epoch 20/70\n",
            "5592/5592 [==============================] - 12s 2ms/step - loss: 0.6441 - acc: 0.7570 - val_loss: 0.6359 - val_acc: 0.7603\n",
            "\n",
            "Epoch 00020: val_acc did not improve from 0.76846\n",
            "Epoch 21/70\n",
            "5592/5592 [==============================] - 12s 2ms/step - loss: 0.6421 - acc: 0.7561 - val_loss: 0.6664 - val_acc: 0.7472\n",
            "\n",
            "Epoch 00021: val_acc did not improve from 0.76846\n",
            "Epoch 22/70\n",
            "5592/5592 [==============================] - 12s 2ms/step - loss: 0.6536 - acc: 0.7573 - val_loss: 0.6165 - val_acc: 0.7760\n",
            "\n",
            "Epoch 00022: val_acc improved from 0.76846 to 0.77597, saving model to weights.best.hdf5\n",
            "Epoch 23/70\n",
            "5592/5592 [==============================] - 12s 2ms/step - loss: 0.5385 - acc: 0.7999 - val_loss: 0.7288 - val_acc: 0.7247\n",
            "\n",
            "Epoch 00023: val_acc did not improve from 0.77597\n",
            "Epoch 24/70\n",
            "5592/5592 [==============================] - 12s 2ms/step - loss: 0.4326 - acc: 0.8410 - val_loss: 0.4407 - val_acc: 0.8348\n",
            "\n",
            "Epoch 00028: val_acc did not improve from 0.84606\n",
            "Epoch 29/70\n",
            "5592/5592 [==============================] - 12s 2ms/step - loss: 0.4105 - acc: 0.8507 - val_loss: 0.4366 - val_acc: 0.8511\n",
            "\n",
            "Epoch 00029: val_acc improved from 0.84606 to 0.85106, saving model to weights.best.hdf5\n",
            "Epoch 30/70\n",
            "5592/5592 [==============================] - 12s 2ms/step - loss: 0.4150 - acc: 0.8507 - val_loss: 0.4268 - val_acc: 0.8561\n",
            "\n",
            "Epoch 00030: val_acc improved from 0.85106 to 0.85607, saving model to weights.best.hdf5\n",
            "Epoch 31/70\n",
            "5592/5592 [==============================] - 12s 2ms/step - loss: 0.3798 - acc: 0.8641 - val_loss: 0.4402 - val_acc: 0.8479\n",
            "\n",
            "Epoch 00031: val_acc did not improve from 0.85607\n",
            "Epoch 32/70\n",
            "5592/5592 [==============================] - 12s 2ms/step - loss: 0.3771 - acc: 0.8632 - val_loss: 0.3873 - val_acc: 0.8617\n",
            "\n",
            "Epoch 00032: val_acc improved from 0.85607 to 0.86170, saving model to weights.best.hdf5\n",
            "Epoch 33/70\n",
            "5592/5592 [==============================] - 12s 2ms/step - loss: 0.3315 - acc: 0.8859 - val_loss: 0.3730 - val_acc: 0.8723\n",
            "\n",
            "Epoch 00033: val_acc improved from 0.86170 to 0.87234, saving model to weights.best.hdf5\n",
            "Epoch 34/70\n",
            "5592/5592 [==============================] - 12s 2ms/step - loss: 0.3507 - acc: 0.8811 - val_loss: 0.3946 - val_acc: 0.8573\n",
            "\n",
            "Epoch 00034: val_acc did not improve from 0.87234\n",
            "Epoch 35/70\n",
            "5592/5592 [==============================] - 12s 2ms/step - loss: 0.3295 - acc: 0.8850 - val_loss: 0.4718 - val_acc: 0.8235\n",
            "\n",
            "Epoch 00035: val_acc did not improve from 0.87234\n",
            "Epoch 36/70\n",
            "5592/5592 [==============================] - 12s 2ms/step - loss: 0.3072 - acc: 0.8950 - val_loss: 0.3448 - val_acc: 0.8842\n",
            "\n",
            "Epoch 00036: val_acc improved from 0.87234 to 0.88423, saving model to weights.best.hdf5\n",
            "Epoch 37/70\n",
            "5592/5592 [==============================] - 12s 2ms/step - loss: 0.3034 - acc: 0.8950 - val_loss: 0.5143 - val_acc: 0.8191\n",
            "\n",
            "Epoch 00037: val_acc did not improve from 0.88423\n",
            "Epoch 38/70\n",
            "5592/5592 [==============================] - 12s 2ms/step - loss: 0.2528 - acc: 0.9145 - val_loss: 0.3275 - val_acc: 0.8892\n",
            "\n",
            "Epoch 00038: val_acc improved from 0.88423 to 0.88924, saving model to weights.best.hdf5\n",
            "Epoch 39/70\n",
            "5592/5592 [==============================] - 12s 2ms/step - loss: 0.3582 - acc: 0.8714 - val_loss: 0.3283 - val_acc: 0.8880\n",
            "\n",
            "Epoch 00039: val_acc did not improve from 0.88924\n",
            "Epoch 40/70\n",
            "5592/5592 [==============================] - 12s 2ms/step - loss: 0.2738 - acc: 0.9031 - val_loss: 0.2728 - val_acc: 0.8992\n",
            "\n",
            "Epoch 00040: val_acc improved from 0.88924 to 0.89925, saving model to weights.best.hdf5\n",
            "Epoch 41/70\n",
            "5592/5592 [==============================] - 12s 2ms/step - loss: 0.2504 - acc: 0.9117 - val_loss: 0.3365 - val_acc: 0.8817\n",
            "\n",
            "Epoch 00041: val_acc did not improve from 0.89925\n",
            "Epoch 42/70\n",
            "5592/5592 [==============================] - 12s 2ms/step - loss: 0.2477 - acc: 0.9202 - val_loss: 0.2655 - val_acc: 0.9118\n",
            "\n",
            "Epoch 00042: val_acc improved from 0.89925 to 0.91176, saving model to weights.best.hdf5\n",
            "Epoch 43/70\n",
            "5592/5592 [==============================] - 12s 2ms/step - loss: 0.2546 - acc: 0.9163 - val_loss: 0.2782 - val_acc: 0.8980\n",
            "\n",
            "Epoch 00043: val_acc did not improve from 0.91176\n",
            "Epoch 44/70\n",
            "5592/5592 [==============================] - 12s 2ms/step - loss: 0.2606 - acc: 0.9099 - val_loss: 0.2712 - val_acc: 0.9005\n",
            "\n",
            "Epoch 00044: val_acc did not improve from 0.91176\n",
            "Epoch 45/70\n",
            "5592/5592 [==============================] - 12s 2ms/step - loss: 0.2010 - acc: 0.9342 - val_loss: 0.2854 - val_acc: 0.9099\n",
            "\n",
            "Epoch 00045: val_acc did not improve from 0.91176\n",
            "Epoch 46/70\n",
            "5592/5592 [==============================] - 13s 2ms/step - loss: 0.2203 - acc: 0.9265 - val_loss: 0.2003 - val_acc: 0.9406\n",
            "\n",
            "Epoch 00046: val_acc improved from 0.91176 to 0.94055, saving model to weights.best.hdf5\n",
            "Epoch 47/70\n",
            "5592/5592 [==============================] - 13s 2ms/step - loss: 0.1809 - acc: 0.9379 - val_loss: 0.1991 - val_acc: 0.9374\n",
            "\n",
            "Epoch 00047: val_acc did not improve from 0.94055\n",
            "Epoch 48/70\n",
            "5592/5592 [==============================] - 12s 2ms/step - loss: 0.1656 - acc: 0.9421 - val_loss: 0.2311 - val_acc: 0.9224\n",
            "\n",
            "Epoch 00048: val_acc did not improve from 0.94055\n",
            "Epoch 49/70\n",
            "5592/5592 [==============================] - 12s 2ms/step - loss: 0.1833 - acc: 0.9338 - val_loss: 0.2207 - val_acc: 0.9293\n",
            "\n",
            "Epoch 00049: val_acc did not improve from 0.94055\n",
            "Epoch 50/70\n",
            "5592/5592 [==============================] - 12s 2ms/step - loss: 0.1722 - acc: 0.9428 - val_loss: 0.2767 - val_acc: 0.9111\n",
            "\n",
            "Epoch 00050: val_acc did not improve from 0.94055\n",
            "Epoch 51/70\n",
            "5592/5592 [==============================] - 12s 2ms/step - loss: 0.1651 - acc: 0.9444 - val_loss: 0.1869 - val_acc: 0.9349\n",
            "\n",
            "Epoch 00051: val_acc did not improve from 0.94055\n",
            "Epoch 52/70\n",
            "5592/5592 [==============================] - 12s 2ms/step - loss: 0.1716 - acc: 0.9424 - val_loss: 0.2488 - val_acc: 0.9055\n",
            "\n",
            "Epoch 00052: val_acc did not improve from 0.94055\n",
            "Epoch 53/70\n",
            "5592/5592 [==============================] - 12s 2ms/step - loss: 0.1481 - acc: 0.9503 - val_loss: 0.1618 - val_acc: 0.9518\n",
            "\n",
            "Epoch 00053: val_acc improved from 0.94055 to 0.95181, saving model to weights.best.hdf5\n",
            "Epoch 54/70\n",
            "5592/5592 [==============================] - 12s 2ms/step - loss: 0.1946 - acc: 0.9344 - val_loss: 0.2241 - val_acc: 0.9268\n",
            "\n",
            "Epoch 00054: val_acc did not improve from 0.95181\n",
            "Epoch 55/70\n",
            "5592/5592 [==============================] - 12s 2ms/step - loss: 0.1310 - acc: 0.9587 - val_loss: 0.1781 - val_acc: 0.9399\n",
            "\n",
            "Epoch 00055: val_acc did not improve from 0.95181\n",
            "Epoch 56/70\n",
            "5592/5592 [==============================] - 12s 2ms/step - loss: 0.1510 - acc: 0.9424 - val_loss: 0.2760 - val_acc: 0.9030\n",
            "\n",
            "Epoch 00056: val_acc did not improve from 0.95181\n",
            "Epoch 57/70\n",
            "5592/5592 [==============================] - 12s 2ms/step - loss: 0.1796 - acc: 0.9383 - val_loss: 0.2998 - val_acc: 0.9005\n",
            "\n",
            "Epoch 00057: val_acc did not improve from 0.95181\n",
            "Epoch 58/70\n",
            "5592/5592 [==============================] - 12s 2ms/step - loss: 0.1432 - acc: 0.9499 - val_loss: 0.1863 - val_acc: 0.9374\n",
            "\n",
            "Epoch 00058: val_acc did not improve from 0.95181\n",
            "Epoch 59/70\n",
            "5592/5592 [==============================] - 12s 2ms/step - loss: 0.1162 - acc: 0.9619 - val_loss: 0.1691 - val_acc: 0.9449\n",
            "\n",
            "Epoch 00059: val_acc did not improve from 0.95181\n",
            "Epoch 60/70\n",
            "5592/5592 [==============================] - 12s 2ms/step - loss: 0.1305 - acc: 0.9540 - val_loss: 0.2543 - val_acc: 0.9193\n",
            "\n",
            "Epoch 00060: val_acc did not improve from 0.95181\n",
            "Epoch 61/70\n",
            "5592/5592 [==============================] - 12s 2ms/step - loss: 0.1235 - acc: 0.9590 - val_loss: 0.1592 - val_acc: 0.9487\n",
            "\n",
            "Epoch 00061: val_acc did not improve from 0.95181\n",
            "Epoch 62/70\n",
            "5592/5592 [==============================] - 12s 2ms/step - loss: 0.1310 - acc: 0.9546 - val_loss: 0.2017 - val_acc: 0.9355\n",
            "\n",
            "Epoch 00062: val_acc did not improve from 0.95181\n",
            "Epoch 63/70\n",
            "5592/5592 [==============================] - 12s 2ms/step - loss: 0.1474 - acc: 0.9519 - val_loss: 0.1583 - val_acc: 0.9481\n",
            "\n",
            "Epoch 00063: val_acc did not improve from 0.95181\n",
            "Epoch 64/70\n",
            "5592/5592 [==============================] - 12s 2ms/step - loss: 0.1026 - acc: 0.9644 - val_loss: 0.1733 - val_acc: 0.9474\n",
            "\n",
            "Epoch 00064: val_acc did not improve from 0.95181\n",
            "Epoch 65/70\n",
            "5592/5592 [==============================] - 12s 2ms/step - loss: 0.0983 - acc: 0.9675 - val_loss: 0.1394 - val_acc: 0.9562\n",
            "\n",
            "Epoch 00065: val_acc improved from 0.95181 to 0.95620, saving model to weights.best.hdf5\n",
            "Epoch 66/70\n",
            "5592/5592 [==============================] - 12s 2ms/step - loss: 0.1433 - acc: 0.9494 - val_loss: 0.1428 - val_acc: 0.9562\n",
            "\n",
            "Epoch 00066: val_acc did not improve from 0.95620\n",
            "Epoch 67/70\n",
            "5592/5592 [==============================] - 12s 2ms/step - loss: 0.1112 - acc: 0.9651 - val_loss: 0.1919 - val_acc: 0.9431\n",
            "\n",
            "Epoch 00067: val_acc did not improve from 0.95620\n",
            "Epoch 68/70\n",
            "5592/5592 [==============================] - 12s 2ms/step - loss: 0.1056 - acc: 0.9673 - val_loss: 0.1443 - val_acc: 0.9593\n",
            "\n",
            "Epoch 00068: val_acc improved from 0.95620 to 0.95932, saving model to weights.best.hdf5\n",
            "Epoch 69/70\n",
            "5592/5592 [==============================] - 12s 2ms/step - loss: 0.1134 - acc: 0.9646 - val_loss: 0.1366 - val_acc: 0.9537\n",
            "\n",
            "Epoch 00069: val_acc did not improve from 0.95932\n",
            "Epoch 70/70\n",
            "5592/5592 [==============================] - 12s 2ms/step - loss: 0.0933 - acc: 0.9701 - val_loss: 0.2161 - val_acc: 0.9305\n",
            "\n",
            "Epoch 00070: val_acc did not improve from 0.95932\n"
          ],
          "name": "stdout"
        }
      ]
    },
    {
      "cell_type": "markdown",
      "metadata": {
        "id": "Ykb00s64daBm",
        "colab_type": "text"
      },
      "source": [
        "Let's display its loss and accuracy curves:"
      ]
    },
    {
      "cell_type": "code",
      "metadata": {
        "id": "0tnCWRdMdaBn",
        "colab_type": "code",
        "colab": {
          "base_uri": "https://localhost:8080/",
          "height": 295
        },
        "outputId": "442dfba5-495f-4730-bb92-2b7b1f47bfc6"
      },
      "source": [
        "import matplotlib.pyplot as plt\n",
        "\n",
        "loss = history.history['loss']\n",
        "val_loss = history.history['val_loss']\n",
        "\n",
        "epochs = range(1, len(loss) + 1)\n",
        "\n",
        "plt.plot(epochs, loss, 'bo', label='Training loss')\n",
        "plt.plot(epochs, val_loss, 'b', label='Validation loss')\n",
        "plt.title('Training and validation loss')\n",
        "plt.xlabel('Epochs')\n",
        "plt.ylabel('Loss')\n",
        "plt.legend()\n",
        "\n",
        "plt.show()"
      ],
      "execution_count": 17,
      "outputs": [
        {
          "output_type": "display_data",
          "data": {
            "image/png": "[encoded data removed]",
            "text/plain": [
              "<Figure size 432x288 with 1 Axes>"
            ]
          },
          "metadata": {
            "tags": []
          }
        }
      ]
    },
    {
      "cell_type": "code",
      "metadata": {
        "scrolled": true,
        "id": "QPVXfH0bdaBq",
        "colab_type": "code",
        "colab": {
          "base_uri": "https://localhost:8080/",
          "height": 295
        },
        "outputId": "d6613cc6-27e4-496d-cd29-b1cc26aef649"
      },
      "source": [
        "plt.clf()   # clear figure\n",
        "\n",
        "acc = history.history['acc']\n",
        "val_acc = history.history['val_acc']\n",
        "\n",
        "plt.plot(epochs, acc, 'bo', label='Training acc')\n",
        "plt.plot(epochs, val_acc, 'b', label='Validation acc')\n",
        "plt.title('Training and validation accuracy')\n",
        "plt.xlabel('Epochs')\n",
        "plt.ylabel('Loss')\n",
        "plt.legend()\n",
        "\n",
        "plt.show()"
      ],
      "execution_count": 18,
      "outputs": [
        {
          "output_type": "display_data",
          "data": {
            "image/png": "[encoded data removed]",
            "text/plain": [
              "<Figure size 432x288 with 1 Axes>"
            ]
          },
          "metadata": {
            "tags": []
          }
        }
      ]
    },
    {
      "cell_type": "markdown",
      "metadata": {
        "id": "K9o2NjMydaBs",
        "colab_type": "text"
      },
      "source": [
        "## TEST"
      ]
    },
    {
      "cell_type": "code",
      "metadata": {
        "id": "Bx3c5Irk0EsH",
        "colab_type": "code",
        "colab": {
          "base_uri": "https://localhost:8080/",
          "height": 35
        },
        "outputId": "a71a6562-243d-4f77-e0ea-edb5f1a02c49"
      },
      "source": [
        "y_test.shape"
      ],
      "execution_count": 19,
      "outputs": [
        {
          "output_type": "execute_result",
          "data": {
            "text/plain": [
              "(799, 12)"
            ]
          },
          "metadata": {
            "tags": []
          },
          "execution_count": 19
        }
      ]
    },
    {
      "cell_type": "code",
      "metadata": {
        "id": "lyDVc0UUdaBt",
        "colab_type": "code",
        "colab": {
          "base_uri": "https://localhost:8080/",
          "height": 72
        },
        "outputId": "03c4c38b-c041-448c-de9f-7c803687ac31"
      },
      "source": [
        "#test_x=np.reshape(test_x,(test_x.shape[0],1,test_x.shape[1]))\n",
        "#predictions = model.predict(test_x)\n",
        "...\n",
        "# evaluate the keras model\n",
        "from sklearn import metrics\n",
        "from sklearn.metrics import confusion_matrix\n",
        "from sklearn.metrics import accuracy_score\n",
        "model.load_weights('weights.best.hdf5')\n",
        "model.compile(optimizer='adam',\n",
        "              loss='categorical_crossentropy',\n",
        "              metrics=['accuracy'])\n",
        "_, accuracy = model.evaluate(test_x, y_test)\n",
        "print('Stepsize: %d \\nAccuracy: %.2f' % (stepsize,accuracy*100))\n"
      ],
      "execution_count": 20,
      "outputs": [
        {
          "output_type": "stream",
          "text": [
            "799/799 [==============================] - 1s 2ms/step\n",
            "Stepsize: 30 \n",
            "Accuracy: 95.74\n"
          ],
          "name": "stdout"
        }
      ]
    },
    {
      "cell_type": "code",
      "metadata": {
        "id": "H6u-na27daBv",
        "colab_type": "code",
        "colab": {
          "base_uri": "https://localhost:8080/",
          "height": 290
        },
        "outputId": "9dfed00a-c1e1-43a6-b7cd-085e39bc4fd9"
      },
      "source": [
        "y_pred = model.predict(test_x)\n",
        "print(y_test.shape)\n",
        "\n",
        "accuracy = accuracy_score(y_test,y_pred.round())\n",
        "matrix = confusion_matrix(y_test.argmax(axis=1),y_pred.argmax(axis=1))\n",
        "print('Accuracy: %.2f' % (accuracy*100))\n",
        "print('Confusion Matrix:\\n%s'%(matrix))"
      ],
      "execution_count": 21,
      "outputs": [
        {
          "output_type": "stream",
          "text": [
            "(799, 12)\n",
            "Accuracy: 95.74\n",
            "Confusion Matrix:\n",
            "[[57  0  0  0  0  0  1  0  0  0  1  1]\n",
            " [ 0 70  0  3  0  0  0  0  0  0  0  1]\n",
            " [ 0  0 55  0  0  0  1  0  1  0  0  0]\n",
            " [ 0  2  0 71  0  0  0  0  0  0  0  0]\n",
            " [ 0  0  1  0 79  0  0  0  0  0  0  0]\n",
            " [ 0  0  0  0  0 72  0  0  0  1  0  1]\n",
            " [ 0  0  0  0  0  2 67  0  0  0  3  0]\n",
            " [ 0  0  0  0  0  0  0 50  0  0  0  0]\n",
            " [ 0  0  0  0  0  0  0  0 65  0  0  0]\n",
            " [ 1  0  0  0  0  1  0  0  7 66  0  0]\n",
            " [ 1  0  0  0  0  0  0  0  2  0 55  0]\n",
            " [ 0  0  0  1  0  2  0  0  0  0  0 58]]\n"
          ],
          "name": "stdout"
        }
      ]
    },
    {
      "cell_type": "code",
      "metadata": {
        "id": "kVTmfpCBuzRt",
        "colab_type": "code",
        "colab": {}
      },
      "source": [
        ""
      ],
      "execution_count": 0,
      "outputs": []
    }
  ]
}
